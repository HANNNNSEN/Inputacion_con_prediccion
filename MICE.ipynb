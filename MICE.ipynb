{
 "cells": [
  {
   "cell_type": "markdown",
   "metadata": {},
   "source": [
    "# Evaluación del Método MICE con SVR en la Librería scikit-learn\n",
    "\n",
    "En este análisis, utilizaremos el método de imputación MICE (Multiple Imputation by Chained Equations) de la librería `sklearn`, empleando **Support Vector Regression (SVR)** como estimador, que ha demostrado ofrecer los mejores resultados en nuestro análisis previo.\n",
    "\n",
    "## 1. Preparación de los Datos\n",
    "\n",
    "Primero, eliminamos todos los datos nulos del DataFrame original. Posteriormente, transformaremos un 10% de los valores aleatorios en nulos, simulando un escenario realista donde los datos faltan.\n",
    "\n",
    "## 2. Imputación de Valores Faltantes\n",
    "\n",
    "Aplicaremos el método de imputación MICE para predecir y rellenar los valores faltantes generados en el paso anterior. La calidad de estas imputaciones será evaluada comparando los valores imputados con los originales.\n",
    "\n",
    "## 3. Comparación de Resultados\n",
    "\n",
    "Finalmente, evaluaremos el rendimiento del método de imputación utilizando métricas como el Error Cuadrático Medio (MSE), el Error Absoluto Medio (MAE) y el Coeficiente de Determinación (R²).\n",
    "\n",
    "---\n",
    "\n",
    "A continuación, implementaremos este proceso en código."
   ]
  },
  {
   "cell_type": "code",
   "execution_count": 27,
   "metadata": {},
   "outputs": [],
   "source": [
    "import pandas as pd\n",
    "import numpy as np\n",
    "from sklearn.experimental import enable_iterative_imputer\n",
    "from sklearn.impute import IterativeImputer\n",
    "from sklearn.metrics import mean_squared_error, mean_absolute_error, r2_score\n",
    "from sklearn.svm import SVR\n",
    "import seaborn as sns\n",
    "import matplotlib.pyplot as plt\n",
    "\n",
    "df= pd.read_csv(filepath_or_buffer='estaciones_meteorol.csv', sep=',')\n",
    "df_resistencia_completo= df[df['NAME']=='RESISTENCIA AERO, AR' ].copy()\n",
    "\n",
    "df_resistencia=df_resistencia_completo.drop(columns=['PRCP','DATE','NAME','Unnamed: 0'])\n",
    "df_resistencia=df_resistencia.dropna()"
   ]
  },
  {
   "cell_type": "code",
   "execution_count": null,
   "metadata": {},
   "outputs": [],
   "source": [
    "# Paso 1: Eliminar el 10% de los datos aleatoriamente\n",
    "def remove_random_data(df, porcentaje=0.1):\n",
    "    df_with_nan = df.copy()\n",
    "    for col in df.columns:\n",
    "        num_to_remove = int(len(df) * porcentaje)\n",
    "        indices_to_remove = np.random.choice(df.index, size=num_to_remove, replace=False)\n",
    "        df_with_nan.loc[indices_to_remove, col] = np.nan\n",
    "    return df_with_nan\n",
    "\n",
    "# Aplicar la función para eliminar el 10% de los datos\n",
    "df_with_nan = remove_random_data(df_resistencia, porcentaje=0.1)\n",
    "\n",
    "# Paso 2: Imputar los valores faltantes usando MICE\n",
    "mice_imputer = IterativeImputer(estimator=SVR(),max_iter=50)\n",
    "\n",
    "# Ajustar el imputador en el DataFrame con NaN\n",
    "df_imputed = mice_imputer.fit_transform(df_with_nan)\n",
    "\n",
    "# Convertir a DataFrame\n",
    "df_imputed = pd.DataFrame(df_imputed, columns=df_resistencia.columns)\n",
    "\n",
    "# Filtrar solo los valores imputados donde había NaN en el original\n",
    "original_values = df_resistencia.values.flatten()[df_with_nan.isnull().values.flatten()]\n",
    "imputed_values = df_imputed.values.flatten()[df_with_nan.isnull().values.flatten()]\n",
    "\n"
   ]
  },
  {
   "cell_type": "code",
   "execution_count": null,
   "metadata": {},
   "outputs": [],
   "source": [
    "# Calcular MSE, MAE y R²\n",
    "mse = mean_squared_error(original_values, imputed_values)\n",
    "mae = mean_absolute_error(original_values, imputed_values)\n",
    "r2 = r2_score(original_values, imputed_values)\n",
    "\n",
    "# Mostrar las métricas\n",
    "print(f\"\\nError Cuadrático Medio (MSE): {mse}\")\n",
    "print(f\"Error Absoluto Medio (MAE): {mae}\")\n",
    "print(f\"Coeficiente de Determinación (R²): {r2}\")"
   ]
  },
  {
   "cell_type": "markdown",
   "metadata": {},
   "source": [
    "Entrenamos al dataset completo y luego graficamos."
   ]
  },
  {
   "cell_type": "code",
   "execution_count": 29,
   "metadata": {},
   "outputs": [],
   "source": [
    "\n",
    "df= pd.read_csv(filepath_or_buffer='estaciones_meteorol.csv', sep=',')\n",
    "df_resistencia_completo= df[df['NAME']=='RESISTENCIA AERO, AR' ].copy()\n",
    "df_resistencia=df_resistencia_completo.drop(columns=['PRCP','DATE','NAME','Unnamed: 0'])\n",
    "\n",
    "# Paso 2: Imputar los valores faltantes usando MICE\n",
    "mice_imputer = IterativeImputer(estimator=SVR(),max_iter=50)\n",
    "# Ajustar el imputador en el DataFrame con NaN\n",
    "df_imputed = mice_imputer.fit_transform(df_with_nan)\n",
    "# Convertir a DataFrame\n",
    "df_imputed = pd.DataFrame(df_imputed, columns=df_resistencia.columns)\n",
    "\n",
    "# Gráficos de Histogramas\n",
    "sns.set(style=\"whitegrid\")\n",
    "plt.figure(figsize=(15, 5))\n",
    "\n",
    "# Histograma para TMIN\n",
    "plt.subplot(1, 3, 1)\n",
    "sns.histplot(df_resistencia['TMIN'], bins=20, kde=True, color='blue', alpha=0.5, label='Original')\n",
    "sns.histplot(df_imputed['TMIN'], bins=20, kde=True, color='orange', alpha=0.5, label='Imputado')\n",
    "plt.title('Histograma de TMIN')\n",
    "plt.xlabel('TMIN')\n",
    "plt.ylabel('Frecuencia')\n",
    "plt.legend()\n",
    "\n",
    "# Histograma para TMAX\n",
    "plt.subplot(1, 3, 2)\n",
    "sns.histplot(df_resistencia['TMAX'], bins=20, kde=True, color='blue', alpha=0.5, label='Original')\n",
    "sns.histplot(df_imputed['TMAX'], bins=20, kde=True, color='orange', alpha=0.5, label='Imputado')\n",
    "plt.title('Histograma de TMAX')\n",
    "plt.xlabel('TMAX')\n",
    "plt.ylabel('Frecuencia')\n",
    "plt.legend()\n",
    "\n",
    "# Histograma para TAVG\n",
    "plt.subplot(1, 3, 3)\n",
    "sns.histplot(df_resistencia['TAVG'], bins=20, kde=True, color='blue', alpha=0.5, label='Original')\n",
    "sns.histplot(df_imputed['TAVG'], bins=20, kde=True, color='orange', alpha=0.5, label='Imputado')\n",
    "plt.title('Histograma de TAVG')\n",
    "plt.xlabel('TAVG')\n",
    "plt.ylabel('Frecuencia')\n",
    "plt.legend()\n",
    "\n",
    "# Mostrar los histogramas\n",
    "plt.tight_layout()\n",
    "plt.show()"
   ]
  }
 ],
 "metadata": {
  "kernelspec": {
   "display_name": "DEEPLEARNINGSANTIAGOHERNANDEZ",
   "language": "python",
   "name": "python3"
  },
  "language_info": {
   "codemirror_mode": {
    "name": "ipython",
    "version": 3
   },
   "file_extension": ".py",
   "mimetype": "text/x-python",
   "name": "python",
   "nbconvert_exporter": "python",
   "pygments_lexer": "ipython3",
   "version": "3.8.19"
  }
 },
 "nbformat": 4,
 "nbformat_minor": 2
}
