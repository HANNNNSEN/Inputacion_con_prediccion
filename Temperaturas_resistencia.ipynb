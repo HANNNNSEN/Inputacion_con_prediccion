{
 "cells": [
  {
   "cell_type": "markdown",
   "metadata": {},
   "source": [
    "# Imputación de datos de temperaturas faltantes mediante Predicción \n",
    "\n",
    "## Objetivo del Proyecto\n",
    "\n",
    "En este proyecto, analizaremos un dataset de temperaturas correspondiente a cuatro ciudades de Argentina. Este conjunto de datos incluye registros temperatura mínima, máxima y promedio. Sin embargo, hemos encontrado que muchos de estos registros presentan datos faltantes.\n",
    "\n",
    "El objetivo principal es desarrollar un modelo de machine learning o deep learning que, según la técnica que ofrezca mayor precisión, nos permita completar los datos ausentes de temperaturas.\n",
    "\n",
    "Comenzaremos enfocándonos en la ciudad de Resistencia.\n",
    "\n",
    "Se desarrolla y evalúa cinco modelos de aprendizaje supervisados para predecir temperaturas en función de los datos disponibles:\n",
    "\n",
    "1. Utilizaremos los datos de **TAVG** , **TMAX** y **LLOVIO** para predecir **TMIN**.\n",
    "2. Utilizaremos los datos de **TAVG** , **TMIN** y **LLOVIO** para predecir **TMAX**.\n",
    "3. Utilizaremos los datos de **TMAX** , **TMIN** y **LLOVIO** para predecir **TAVG**.\n",
    "4. Utilizaremos los datos de **TAVG**  , **LLOVIO** para predecir **TMIN** y **TMAX**\n",
    "5. Utilizaremos los datos de **TMIN**  , **LLOVIO** para predecir **TAVG** y **TMAX**\n",
    "6. Utilizaremos los datos de **TMAX**  , **LLOVIO** para predecir **TMIN** y **TMAX**\n",
    "\n"
   ]
  },
  {
   "cell_type": "code",
   "execution_count": 1,
   "metadata": {},
   "outputs": [
    {
     "data": {
      "text/html": [
       "<div>\n",
       "<style scoped>\n",
       "    .dataframe tbody tr th:only-of-type {\n",
       "        vertical-align: middle;\n",
       "    }\n",
       "\n",
       "    .dataframe tbody tr th {\n",
       "        vertical-align: top;\n",
       "    }\n",
       "\n",
       "    .dataframe thead th {\n",
       "        text-align: right;\n",
       "    }\n",
       "</style>\n",
       "<table border=\"1\" class=\"dataframe\">\n",
       "  <thead>\n",
       "    <tr style=\"text-align: right;\">\n",
       "      <th></th>\n",
       "      <th>Unnamed: 0</th>\n",
       "      <th>NAME</th>\n",
       "      <th>DATE</th>\n",
       "      <th>PRCP</th>\n",
       "      <th>TAVG</th>\n",
       "      <th>TMAX</th>\n",
       "      <th>TMIN</th>\n",
       "    </tr>\n",
       "  </thead>\n",
       "  <tbody>\n",
       "    <tr>\n",
       "      <th>0</th>\n",
       "      <td>1</td>\n",
       "      <td>CORRIENTES, AR</td>\n",
       "      <td>1980-01-01</td>\n",
       "      <td>0.0</td>\n",
       "      <td>22.0</td>\n",
       "      <td>NaN</td>\n",
       "      <td>13.0</td>\n",
       "    </tr>\n",
       "    <tr>\n",
       "      <th>1</th>\n",
       "      <td>2</td>\n",
       "      <td>CORRIENTES, AR</td>\n",
       "      <td>1980-01-02</td>\n",
       "      <td>0.0</td>\n",
       "      <td>24.0</td>\n",
       "      <td>NaN</td>\n",
       "      <td>14.0</td>\n",
       "    </tr>\n",
       "    <tr>\n",
       "      <th>2</th>\n",
       "      <td>3</td>\n",
       "      <td>CORRIENTES, AR</td>\n",
       "      <td>1980-01-03</td>\n",
       "      <td>0.0</td>\n",
       "      <td>25.7</td>\n",
       "      <td>NaN</td>\n",
       "      <td>14.0</td>\n",
       "    </tr>\n",
       "    <tr>\n",
       "      <th>3</th>\n",
       "      <td>4</td>\n",
       "      <td>CORRIENTES, AR</td>\n",
       "      <td>1980-01-04</td>\n",
       "      <td>NaN</td>\n",
       "      <td>28.1</td>\n",
       "      <td>NaN</td>\n",
       "      <td>NaN</td>\n",
       "    </tr>\n",
       "    <tr>\n",
       "      <th>4</th>\n",
       "      <td>5</td>\n",
       "      <td>CORRIENTES, AR</td>\n",
       "      <td>1980-01-05</td>\n",
       "      <td>NaN</td>\n",
       "      <td>24.3</td>\n",
       "      <td>33.0</td>\n",
       "      <td>NaN</td>\n",
       "    </tr>\n",
       "    <tr>\n",
       "      <th>5</th>\n",
       "      <td>6</td>\n",
       "      <td>CORRIENTES, AR</td>\n",
       "      <td>1980-01-06</td>\n",
       "      <td>5.1</td>\n",
       "      <td>27.7</td>\n",
       "      <td>NaN</td>\n",
       "      <td>20.0</td>\n",
       "    </tr>\n",
       "    <tr>\n",
       "      <th>6</th>\n",
       "      <td>7</td>\n",
       "      <td>CORRIENTES, AR</td>\n",
       "      <td>1980-01-07</td>\n",
       "      <td>0.0</td>\n",
       "      <td>27.7</td>\n",
       "      <td>34.0</td>\n",
       "      <td>NaN</td>\n",
       "    </tr>\n",
       "    <tr>\n",
       "      <th>7</th>\n",
       "      <td>8</td>\n",
       "      <td>CORRIENTES, AR</td>\n",
       "      <td>1980-01-08</td>\n",
       "      <td>39.1</td>\n",
       "      <td>25.7</td>\n",
       "      <td>34.0</td>\n",
       "      <td>18.0</td>\n",
       "    </tr>\n",
       "    <tr>\n",
       "      <th>8</th>\n",
       "      <td>9</td>\n",
       "      <td>CORRIENTES, AR</td>\n",
       "      <td>1980-01-09</td>\n",
       "      <td>0.0</td>\n",
       "      <td>27.6</td>\n",
       "      <td>NaN</td>\n",
       "      <td>NaN</td>\n",
       "    </tr>\n",
       "    <tr>\n",
       "      <th>9</th>\n",
       "      <td>10</td>\n",
       "      <td>CORRIENTES, AR</td>\n",
       "      <td>1980-01-10</td>\n",
       "      <td>0.0</td>\n",
       "      <td>27.9</td>\n",
       "      <td>33.0</td>\n",
       "      <td>20.0</td>\n",
       "    </tr>\n",
       "  </tbody>\n",
       "</table>\n",
       "</div>"
      ],
      "text/plain": [
       "   Unnamed: 0            NAME        DATE  PRCP  TAVG  TMAX  TMIN\n",
       "0           1  CORRIENTES, AR  1980-01-01   0.0  22.0   NaN  13.0\n",
       "1           2  CORRIENTES, AR  1980-01-02   0.0  24.0   NaN  14.0\n",
       "2           3  CORRIENTES, AR  1980-01-03   0.0  25.7   NaN  14.0\n",
       "3           4  CORRIENTES, AR  1980-01-04   NaN  28.1   NaN   NaN\n",
       "4           5  CORRIENTES, AR  1980-01-05   NaN  24.3  33.0   NaN\n",
       "5           6  CORRIENTES, AR  1980-01-06   5.1  27.7   NaN  20.0\n",
       "6           7  CORRIENTES, AR  1980-01-07   0.0  27.7  34.0   NaN\n",
       "7           8  CORRIENTES, AR  1980-01-08  39.1  25.7  34.0  18.0\n",
       "8           9  CORRIENTES, AR  1980-01-09   0.0  27.6   NaN   NaN\n",
       "9          10  CORRIENTES, AR  1980-01-10   0.0  27.9  33.0  20.0"
      ]
     },
     "execution_count": 1,
     "metadata": {},
     "output_type": "execute_result"
    }
   ],
   "source": [
    "import pandas as pd \n",
    "import seaborn as sns\n",
    "import matplotlib.pyplot as plt\n",
    "import sklearn\n",
    "from sklearn.model_selection import train_test_split\n",
    "import joblib\n",
    "\n",
    "\n",
    "df= pd.read_csv(filepath_or_buffer='estaciones_meteorol.csv', sep=',')\n",
    "df.head(10)\n"
   ]
  },
  {
   "cell_type": "markdown",
   "metadata": {},
   "source": [
    "## 1) Análisis exploratorio "
   ]
  },
  {
   "cell_type": "code",
   "execution_count": 2,
   "metadata": {},
   "outputs": [
    {
     "data": {
      "text/plain": [
       "array(['CORRIENTES, AR', 'BUENOS AIRES OBSERV, AR',\n",
       "       'RESISTENCIA AERO, AR', 'MENDOZA AERO, AR'], dtype=object)"
      ]
     },
     "execution_count": 2,
     "metadata": {},
     "output_type": "execute_result"
    }
   ],
   "source": [
    "df['NAME'].unique()"
   ]
  },
  {
   "cell_type": "code",
   "execution_count": 3,
   "metadata": {},
   "outputs": [
    {
     "name": "stdout",
     "output_type": "stream",
     "text": [
      "<class 'pandas.core.frame.DataFrame'>\n",
      "RangeIndex: 60450 entries, 0 to 60449\n",
      "Data columns (total 7 columns):\n",
      " #   Column      Non-Null Count  Dtype  \n",
      "---  ------      --------------  -----  \n",
      " 0   Unnamed: 0  60450 non-null  int64  \n",
      " 1   NAME        60450 non-null  object \n",
      " 2   DATE        60450 non-null  object \n",
      " 3   PRCP        25476 non-null  float64\n",
      " 4   TAVG        53025 non-null  float64\n",
      " 5   TMAX        40409 non-null  float64\n",
      " 6   TMIN        51998 non-null  float64\n",
      "dtypes: float64(4), int64(1), object(2)\n",
      "memory usage: 3.2+ MB\n"
     ]
    }
   ],
   "source": [
    "# vemos que tipo de datos tiene el data\n",
    "df.info()"
   ]
  },
  {
   "cell_type": "code",
   "execution_count": 4,
   "metadata": {},
   "outputs": [
    {
     "data": {
      "text/html": [
       "<div>\n",
       "<style scoped>\n",
       "    .dataframe tbody tr th:only-of-type {\n",
       "        vertical-align: middle;\n",
       "    }\n",
       "\n",
       "    .dataframe tbody tr th {\n",
       "        vertical-align: top;\n",
       "    }\n",
       "\n",
       "    .dataframe thead th {\n",
       "        text-align: right;\n",
       "    }\n",
       "</style>\n",
       "<table border=\"1\" class=\"dataframe\">\n",
       "  <thead>\n",
       "    <tr style=\"text-align: right;\">\n",
       "      <th></th>\n",
       "      <th>Unnamed: 0</th>\n",
       "      <th>NAME</th>\n",
       "      <th>DATE</th>\n",
       "      <th>PRCP</th>\n",
       "      <th>TAVG</th>\n",
       "      <th>TMAX</th>\n",
       "      <th>TMIN</th>\n",
       "      <th>llovio</th>\n",
       "    </tr>\n",
       "  </thead>\n",
       "  <tbody>\n",
       "    <tr>\n",
       "      <th>28574</th>\n",
       "      <td>28575</td>\n",
       "      <td>RESISTENCIA AERO, AR</td>\n",
       "      <td>1980-01-01</td>\n",
       "      <td>0.0</td>\n",
       "      <td>19.6</td>\n",
       "      <td>25.8</td>\n",
       "      <td>11.0</td>\n",
       "      <td>0</td>\n",
       "    </tr>\n",
       "    <tr>\n",
       "      <th>28575</th>\n",
       "      <td>28576</td>\n",
       "      <td>RESISTENCIA AERO, AR</td>\n",
       "      <td>1980-01-02</td>\n",
       "      <td>0.0</td>\n",
       "      <td>20.8</td>\n",
       "      <td>28.1</td>\n",
       "      <td>13.4</td>\n",
       "      <td>0</td>\n",
       "    </tr>\n",
       "    <tr>\n",
       "      <th>28576</th>\n",
       "      <td>28577</td>\n",
       "      <td>RESISTENCIA AERO, AR</td>\n",
       "      <td>1980-01-03</td>\n",
       "      <td>0.0</td>\n",
       "      <td>22.7</td>\n",
       "      <td>30.7</td>\n",
       "      <td>14.0</td>\n",
       "      <td>0</td>\n",
       "    </tr>\n",
       "    <tr>\n",
       "      <th>28577</th>\n",
       "      <td>28578</td>\n",
       "      <td>RESISTENCIA AERO, AR</td>\n",
       "      <td>1980-01-04</td>\n",
       "      <td>153.9</td>\n",
       "      <td>24.8</td>\n",
       "      <td>32.8</td>\n",
       "      <td>15.2</td>\n",
       "      <td>1</td>\n",
       "    </tr>\n",
       "    <tr>\n",
       "      <th>28578</th>\n",
       "      <td>28579</td>\n",
       "      <td>RESISTENCIA AERO, AR</td>\n",
       "      <td>1980-01-05</td>\n",
       "      <td>0.0</td>\n",
       "      <td>23.4</td>\n",
       "      <td>33.2</td>\n",
       "      <td>20.8</td>\n",
       "      <td>0</td>\n",
       "    </tr>\n",
       "  </tbody>\n",
       "</table>\n",
       "</div>"
      ],
      "text/plain": [
       "       Unnamed: 0                  NAME        DATE   PRCP  TAVG  TMAX  TMIN  \\\n",
       "28574       28575  RESISTENCIA AERO, AR  1980-01-01    0.0  19.6  25.8  11.0   \n",
       "28575       28576  RESISTENCIA AERO, AR  1980-01-02    0.0  20.8  28.1  13.4   \n",
       "28576       28577  RESISTENCIA AERO, AR  1980-01-03    0.0  22.7  30.7  14.0   \n",
       "28577       28578  RESISTENCIA AERO, AR  1980-01-04  153.9  24.8  32.8  15.2   \n",
       "28578       28579  RESISTENCIA AERO, AR  1980-01-05    0.0  23.4  33.2  20.8   \n",
       "\n",
       "       llovio  \n",
       "28574       0  \n",
       "28575       0  \n",
       "28576       0  \n",
       "28577       1  \n",
       "28578       0  "
      ]
     },
     "execution_count": 4,
     "metadata": {},
     "output_type": "execute_result"
    }
   ],
   "source": [
    "df_resistencia_completo= df[df['NAME']=='RESISTENCIA AERO, AR' ].copy()\n",
    "df_resistencia_completo['llovio'] = df_resistencia_completo['PRCP'].apply(lambda x: 1 if x > 0 else 0)\n",
    "df_resistencia_completo.head()"
   ]
  },
  {
   "cell_type": "markdown",
   "metadata": {},
   "source": [
    "Creamos un dataset con las columnas de temperaturas"
   ]
  },
  {
   "cell_type": "code",
   "execution_count": 5,
   "metadata": {},
   "outputs": [
    {
     "data": {
      "text/html": [
       "<div>\n",
       "<style scoped>\n",
       "    .dataframe tbody tr th:only-of-type {\n",
       "        vertical-align: middle;\n",
       "    }\n",
       "\n",
       "    .dataframe tbody tr th {\n",
       "        vertical-align: top;\n",
       "    }\n",
       "\n",
       "    .dataframe thead th {\n",
       "        text-align: right;\n",
       "    }\n",
       "</style>\n",
       "<table border=\"1\" class=\"dataframe\">\n",
       "  <thead>\n",
       "    <tr style=\"text-align: right;\">\n",
       "      <th></th>\n",
       "      <th>TAVG</th>\n",
       "      <th>TMAX</th>\n",
       "      <th>TMIN</th>\n",
       "      <th>llovio</th>\n",
       "    </tr>\n",
       "  </thead>\n",
       "  <tbody>\n",
       "    <tr>\n",
       "      <th>28574</th>\n",
       "      <td>19.6</td>\n",
       "      <td>25.8</td>\n",
       "      <td>11.0</td>\n",
       "      <td>0</td>\n",
       "    </tr>\n",
       "    <tr>\n",
       "      <th>28575</th>\n",
       "      <td>20.8</td>\n",
       "      <td>28.1</td>\n",
       "      <td>13.4</td>\n",
       "      <td>0</td>\n",
       "    </tr>\n",
       "    <tr>\n",
       "      <th>28576</th>\n",
       "      <td>22.7</td>\n",
       "      <td>30.7</td>\n",
       "      <td>14.0</td>\n",
       "      <td>0</td>\n",
       "    </tr>\n",
       "    <tr>\n",
       "      <th>28577</th>\n",
       "      <td>24.8</td>\n",
       "      <td>32.8</td>\n",
       "      <td>15.2</td>\n",
       "      <td>1</td>\n",
       "    </tr>\n",
       "    <tr>\n",
       "      <th>28578</th>\n",
       "      <td>23.4</td>\n",
       "      <td>33.2</td>\n",
       "      <td>20.8</td>\n",
       "      <td>0</td>\n",
       "    </tr>\n",
       "  </tbody>\n",
       "</table>\n",
       "</div>"
      ],
      "text/plain": [
       "       TAVG  TMAX  TMIN  llovio\n",
       "28574  19.6  25.8  11.0       0\n",
       "28575  20.8  28.1  13.4       0\n",
       "28576  22.7  30.7  14.0       0\n",
       "28577  24.8  32.8  15.2       1\n",
       "28578  23.4  33.2  20.8       0"
      ]
     },
     "metadata": {},
     "output_type": "display_data"
    },
    {
     "data": {
      "text/plain": [
       "TAVG        41\n",
       "TMAX      4315\n",
       "TMIN      1935\n",
       "llovio       0\n",
       "dtype: int64"
      ]
     },
     "metadata": {},
     "output_type": "display_data"
    }
   ],
   "source": [
    "df_resistencia=df_resistencia_completo.drop(columns=['PRCP','DATE','NAME','Unnamed: 0'])\n",
    "display(df_resistencia.head(5))\n",
    "display(df_resistencia.isnull().sum())"
   ]
  },
  {
   "cell_type": "markdown",
   "metadata": {},
   "source": [
    "\n",
    "Para entrenar estos modelos, separaremos las filas que contienen datos completos, a las que llamaremos `df_res_com`."
   ]
  },
  {
   "cell_type": "code",
   "execution_count": 6,
   "metadata": {},
   "outputs": [
    {
     "data": {
      "text/html": [
       "<div>\n",
       "<style scoped>\n",
       "    .dataframe tbody tr th:only-of-type {\n",
       "        vertical-align: middle;\n",
       "    }\n",
       "\n",
       "    .dataframe tbody tr th {\n",
       "        vertical-align: top;\n",
       "    }\n",
       "\n",
       "    .dataframe thead th {\n",
       "        text-align: right;\n",
       "    }\n",
       "</style>\n",
       "<table border=\"1\" class=\"dataframe\">\n",
       "  <thead>\n",
       "    <tr style=\"text-align: right;\">\n",
       "      <th></th>\n",
       "      <th>TAVG</th>\n",
       "      <th>TMAX</th>\n",
       "      <th>TMIN</th>\n",
       "      <th>llovio</th>\n",
       "    </tr>\n",
       "  </thead>\n",
       "  <tbody>\n",
       "    <tr>\n",
       "      <th>28574</th>\n",
       "      <td>19.6</td>\n",
       "      <td>25.8</td>\n",
       "      <td>11.0</td>\n",
       "      <td>0</td>\n",
       "    </tr>\n",
       "    <tr>\n",
       "      <th>28575</th>\n",
       "      <td>20.8</td>\n",
       "      <td>28.1</td>\n",
       "      <td>13.4</td>\n",
       "      <td>0</td>\n",
       "    </tr>\n",
       "    <tr>\n",
       "      <th>28576</th>\n",
       "      <td>22.7</td>\n",
       "      <td>30.7</td>\n",
       "      <td>14.0</td>\n",
       "      <td>0</td>\n",
       "    </tr>\n",
       "    <tr>\n",
       "      <th>28577</th>\n",
       "      <td>24.8</td>\n",
       "      <td>32.8</td>\n",
       "      <td>15.2</td>\n",
       "      <td>1</td>\n",
       "    </tr>\n",
       "    <tr>\n",
       "      <th>28578</th>\n",
       "      <td>23.4</td>\n",
       "      <td>33.2</td>\n",
       "      <td>20.8</td>\n",
       "      <td>0</td>\n",
       "    </tr>\n",
       "  </tbody>\n",
       "</table>\n",
       "</div>"
      ],
      "text/plain": [
       "       TAVG  TMAX  TMIN  llovio\n",
       "28574  19.6  25.8  11.0       0\n",
       "28575  20.8  28.1  13.4       0\n",
       "28576  22.7  30.7  14.0       0\n",
       "28577  24.8  32.8  15.2       1\n",
       "28578  23.4  33.2  20.8       0"
      ]
     },
     "metadata": {},
     "output_type": "display_data"
    },
    {
     "name": "stdout",
     "output_type": "stream",
     "text": [
      "la cantidad de datos con valores completos es de: \n",
      "TAVG      10485\n",
      "TMAX      10485\n",
      "TMIN      10485\n",
      "llovio    10485\n",
      "dtype: int64\n"
     ]
    }
   ],
   "source": [
    "# DataFrame con todas las filas que tienen valores en las tres columnas\n",
    "df_res_com = df_resistencia.dropna()\n",
    "display(df_res_com.head())\n",
    "print(f'la cantidad de datos con valores completos es de: \\n{df_res_com.count()}')\n"
   ]
  },
  {
   "cell_type": "markdown",
   "metadata": {},
   "source": [
    "# 3_ GRÁFICOS PARA OBSERVAR LAS DISTRIBUCIONES\n"
   ]
  },
  {
   "cell_type": "code",
   "execution_count": 7,
   "metadata": {},
   "outputs": [
    {
     "data": {
      "image/png": "[encoded data removed]",
      "text/plain": [
       "<Figure size 1500x500 with 3 Axes>"
      ]
     },
     "metadata": {},
     "output_type": "display_data"
    }
   ],
   "source": [
    "sns.set(style=\"whitegrid\")\n",
    "\n",
    "plt.figure(figsize=(15, 5))\n",
    "\n",
    "# Histograma para TMIN\n",
    "plt.subplot(1, 3, 1)\n",
    "sns.histplot(df_res_com['TMIN'], bins=20, kde=True)\n",
    "plt.title('Histograma de TMIN')\n",
    "plt.xlabel('TMIN')\n",
    "plt.ylabel('Frecuencia')\n",
    "\n",
    "# Histograma para TMAX\n",
    "plt.subplot(1, 3, 2)\n",
    "sns.histplot(df_res_com['TMAX'], bins=20, kde=True)\n",
    "plt.title('Histograma de TMAX')\n",
    "plt.xlabel('TMAX')\n",
    "plt.ylabel('Frecuencia')\n",
    "\n",
    "# Histograma para TAVG\n",
    "plt.subplot(1, 3, 3)\n",
    "sns.histplot(df_res_com['TAVG'], bins=20, kde=True)\n",
    "plt.title('Histograma de TAVG')\n",
    "plt.xlabel('TAVG')\n",
    "plt.ylabel('Frecuencia')\n",
    "\n",
    "# Mostrar los histogramas\n",
    "plt.tight_layout()\n",
    "plt.show()"
   ]
  },
  {
   "cell_type": "code",
   "execution_count": 8,
   "metadata": {},
   "outputs": [
    {
     "data": {
      "image/png": "[encoded data removed]",
      "text/plain": [
       "<Figure size 640x480 with 3 Axes>"
      ]
     },
     "metadata": {},
     "output_type": "display_data"
    }
   ],
   "source": [
    "# Boxplot para TMIN\n",
    "plt.subplot(1, 3, 1)\n",
    "sns.boxplot(data=df_res_com, y='TMIN')\n",
    "plt.title('Boxplot de TMIN')\n",
    "plt.ylabel('TMIN')\n",
    "\n",
    "# Boxplot para TMAX\n",
    "plt.subplot(1, 3, 2)\n",
    "sns.boxplot(data=df_res_com, y='TMAX')\n",
    "plt.title('Boxplot de TMAX')\n",
    "plt.ylabel('TMAX')\n",
    "\n",
    "# Boxplot para TAVG\n",
    "plt.subplot(1, 3, 3)\n",
    "sns.boxplot(data=df_res_com, y='TAVG')\n",
    "plt.title('Boxplot de TAVG')\n",
    "plt.ylabel('TAVG')\n",
    "\n",
    "# Mostrar los boxplots\n",
    "plt.tight_layout()\n",
    "plt.show()"
   ]
  },
  {
   "cell_type": "markdown",
   "metadata": {},
   "source": [
    "Observamos una distribución normal en ambas temperaturas salvo por TMIN que esta un poco asimétrica pero en general al ser distribuciones similares.\n",
    "\n",
    "Dividiremos el dataframe en 3 sub grupos - train_set, val_set, test_set"
   ]
  },
  {
   "cell_type": "code",
   "execution_count": 9,
   "metadata": {},
   "outputs": [
    {
     "name": "stdout",
     "output_type": "stream",
     "text": [
      "Longitud del Training Set:  7339\n",
      "Longitud del Validation Set:  1573\n",
      "Longitud del Test Set:  1573\n"
     ]
    }
   ],
   "source": [
    "#función para particionar en 3 grupos train_set, val_set, test_set\n",
    "def particionador(df, rstate=42, shuffle=True):\n",
    "   \n",
    "    train_set, test_set = train_test_split(df, test_size=0.3 , random_state=rstate, shuffle=shuffle)\n",
    "    \n",
    "    df=test_set\n",
    "    \n",
    "    test_set, val_set = train_test_split(df, test_size=0.5, random_state=rstate, shuffle=shuffle)\n",
    "    \n",
    "    return (train_set, val_set, test_set)\n",
    "\n",
    "train_set, val_set, test_set = particionador(df=df_res_com,rstate=42, shuffle=True) \n",
    "print(\"Longitud del Training Set: \", len(train_set))\n",
    "print(\"Longitud del Validation Set: \", len(val_set))\n",
    "print(\"Longitud del Test Set: \", len(test_set))  "
   ]
  },
  {
   "cell_type": "markdown",
   "metadata": {},
   "source": [
    "# PRIMER MODELO:\n",
    "1. Utilizaremos los datos de **TAVG** , **TMAX** y **LLOVIO** para predecir **TMIN**.\n",
    "\n",
    "Por lo tanto separaremos **TMIN** ya que el mismo es el resultado"
   ]
  },
  {
   "cell_type": "code",
   "execution_count": 10,
   "metadata": {},
   "outputs": [
    {
     "name": "stdout",
     "output_type": "stream",
     "text": [
      "DATAFRAME DEL CONJUNTO DE ENTRENAMIENTO: \n",
      "        TAVG  TMAX  llovio\n",
      "33662  22.6  26.2       0\n",
      "36945  22.2  26.6       1\n",
      "36909  23.6  28.2       1\n",
      "36378  10.1  16.6       0\n",
      "31293  17.6  23.7       0\n",
      "DATAFRAME DE RESULTADOS DEL CONJUNTO DE ENTRENAMIENTO: \n",
      " 33662    20.6\n",
      "36945    19.0\n",
      "36909    19.4\n",
      "36378     4.2\n",
      "31293    12.3\n",
      "Name: TMIN, dtype: float64\n"
     ]
    }
   ],
   "source": [
    "# Conjunto de datos general\n",
    "X_df = df_res_com.drop(\"TMIN\", axis=1)\n",
    "y_df = df_res_com[\"TMIN\"].copy()\n",
    "# Conjunto de datos de entrenamiento\n",
    "X_train = train_set.drop(\"TMIN\", axis=1)\n",
    "y_train=train_set[\"TMIN\"].copy()\n",
    "# Conjunto de datos de validación\n",
    "X_val = val_set.drop(\"TMIN\", axis=1)\n",
    "y_val = val_set[\"TMIN\"].copy()\n",
    "# Conjunto de datos de pruebas\n",
    "X_test = test_set.drop(\"TMIN\", axis=1)\n",
    "y_test= test_set[\"TMIN\"].copy()\n",
    "\n",
    "print(f'DATAFRAME DEL CONJUNTO DE ENTRENAMIENTO: \\n {X_train.head(5)}')\n",
    "print(f'DATAFRAME DE RESULTADOS DEL CONJUNTO DE ENTRENAMIENTO: \\n {y_train.head(5)}')"
   ]
  },
  {
   "cell_type": "markdown",
   "metadata": {},
   "source": [
    "## MODELO REGRESIÓN LINEAL"
   ]
  },
  {
   "cell_type": "code",
   "execution_count": 11,
   "metadata": {},
   "outputs": [
    {
     "name": "stdout",
     "output_type": "stream",
     "text": [
      "Error Cuadrático Medio para el conjunto de validación 3.0323733580869163\n",
      "R^2 Score para el conjunto de validación: 0.9196758676784181\n",
      "Error Cuadrático Medio para el conjunto de test: 3.2977383985758744\n",
      "R^2 Score para el conjunto de test: 0.9175728509289826\n"
     ]
    }
   ],
   "source": [
    "#entrenamiento, luego de preparar los datos empezaremos a realizar los entrenamientos \n",
    "\n",
    "from sklearn.linear_model import LinearRegression\n",
    "from sklearn.metrics import mean_squared_error, r2_score\n",
    "\n",
    "# Entrenamos un algoritmo basado en regresión lineal\n",
    "clf = LinearRegression()\n",
    "clf.fit(X_train, y_train)\n",
    "\n",
    "# Realizamos una predicción con el modelo generado anteriormente tras el entrenamiento\n",
    "y_pred_val = clf.predict(X_val)\n",
    "\n",
    "# Evaluamos el rendimiento en el conjunto de validación\n",
    "mse_val = mean_squared_error(y_val, y_pred_val)\n",
    "r2_val = r2_score(y_val, y_pred_val)\n",
    "\n",
    "print(\"Error Cuadrático Medio para el conjunto de validación\", mse_val)\n",
    "print(\"R^2 Score para el conjunto de validación:\", r2_val)\n",
    "\n",
    "# Realizamos predicciones en el conjunto de prueba\n",
    "y_pred_test = clf.predict(X_test)\n",
    "\n",
    "# Evaluamos el rendimiento en el conjunto de prueba\n",
    "mse_test = mean_squared_error(y_test, y_pred_test)\n",
    "r2_test = r2_score(y_test, y_pred_test)\n",
    "\n",
    "print(\"Error Cuadrático Medio para el conjunto de test:\", mse_test)\n",
    "print(\"R^2 Score para el conjunto de test:\", r2_test)"
   ]
  },
  {
   "cell_type": "markdown",
   "metadata": {},
   "source": [
    "## MODELO SUPPORT VECTOR MACHINE "
   ]
  },
  {
   "cell_type": "code",
   "execution_count": 12,
   "metadata": {},
   "outputs": [
    {
     "name": "stdout",
     "output_type": "stream",
     "text": [
      "Error Cuadrático Medio para el conjunto de validación 2.6522407455925046\n",
      "R^2 Score para el conjunto de validación: 0.9297451496104467\n",
      "Error Cuadrático Medio para el conjunto de test: 2.814558671519235\n",
      "R^2 Score para el conjunto de test: 0.9296499542575518\n"
     ]
    }
   ],
   "source": [
    "from sklearn.preprocessing import StandardScaler\n",
    "from sklearn.svm import SVR\n",
    "\n",
    "# estandarización de los dataset\n",
    "scaler_MIN = StandardScaler()\n",
    "X_train_escalado = scaler_MIN.fit_transform(X_train)\n",
    "X_test_escalado = scaler_MIN.transform(X_test)\n",
    "X_val_escalado =scaler_MIN.transform(X_val)\n",
    "# Guardar el scaler en un archivo\n",
    "joblib.dump(scaler_MIN, 'scaler_TMIN.pkl')\n",
    "\n",
    "# Entrenar el modelo SVR con kernel gaussiano (RBF)\n",
    "SVR_TMIN = SVR(kernel='rbf')\n",
    "SVR_TMIN.fit(X_train_escalado, y_train)\n",
    "joblib.dump(SVR_TMIN, 'svr_TMIN.pkl')\n",
    "\n",
    "# Realizamos una predicción con el modelo generado anteriormente tras el entrenamiento\n",
    "y_pred_val = SVR_TMIN.predict(X_val_escalado)\n",
    "\n",
    "# Evaluamos el rendimiento en el conjunto de validación\n",
    "mse_val = mean_squared_error(y_val, y_pred_val)\n",
    "r2_val = r2_score(y_val, y_pred_val)\n",
    "\n",
    "print(\"Error Cuadrático Medio para el conjunto de validación\", mse_val)\n",
    "print(\"R^2 Score para el conjunto de validación:\", r2_val)\n",
    "\n",
    "# Realizamos predicciones en el conjunto de prueba\n",
    "y_pred_test = SVR_TMIN.predict(X_test_escalado)\n",
    "\n",
    "# Evaluamos el rendimiento en el conjunto de prueba\n",
    "mse_test = mean_squared_error(y_test, y_pred_test)\n",
    "r2_test = r2_score(y_test, y_pred_test)\n",
    "\n",
    "print(\"Error Cuadrático Medio para el conjunto de test:\", mse_test)\n",
    "print(\"R^2 Score para el conjunto de test:\", r2_test)\n"
   ]
  },
  {
   "cell_type": "markdown",
   "metadata": {},
   "source": [
    "## MODELO ARBOLES DE DECISIÓN VALORES CONTINUOS "
   ]
  },
  {
   "cell_type": "code",
   "execution_count": 13,
   "metadata": {},
   "outputs": [
    {
     "name": "stdout",
     "output_type": "stream",
     "text": [
      "Error Cuadrático Medio para el conjunto de validación 4.868027786607332\n",
      "R^2 Score para el conjunto de validación: 0.8710514630285255\n",
      "Error Cuadrático Medio para el conjunto de test: 5.259172185138094\n",
      "R^2 Score para el conjunto de test: 0.8685467076825342\n"
     ]
    }
   ],
   "source": [
    "from sklearn.tree import DecisionTreeRegressor\n",
    "\n",
    "# Crear el modelo de Naive Bayes con distribución gaussiana\n",
    "model_3 = DecisionTreeRegressor()\n",
    "model_3.fit(X_train, y_train)\n",
    "\n",
    "\n",
    "# Realizamos una predicción con el modelo generado anteriormente tras el entrenamiento\n",
    "y_pred_val = model_3.predict(X_val)\n",
    "\n",
    "# Evaluamos el rendimiento en el conjunto de validación\n",
    "mse_val = mean_squared_error(y_val, y_pred_val)\n",
    "r2_val = r2_score(y_val, y_pred_val)\n",
    "\n",
    "print(\"Error Cuadrático Medio para el conjunto de validación\", mse_val)\n",
    "print(\"R^2 Score para el conjunto de validación:\", r2_val)\n",
    "\n",
    "# Realizamos predicciones en el conjunto de prueba\n",
    "y_pred_test = model_3.predict(X_test)\n",
    "\n",
    "# Evaluamos el rendimiento en el conjunto de prueba\n",
    "mse_test = mean_squared_error(y_test, y_pred_test)\n",
    "r2_test = r2_score(y_test, y_pred_test)\n",
    "\n",
    "print(\"Error Cuadrático Medio para el conjunto de test:\", mse_test)\n",
    "print(\"R^2 Score para el conjunto de test:\", r2_test)"
   ]
  },
  {
   "cell_type": "markdown",
   "metadata": {},
   "source": [
    "## MODELO CON RANDOM FOREST REGRESSOR"
   ]
  },
  {
   "cell_type": "code",
   "execution_count": 14,
   "metadata": {},
   "outputs": [
    {
     "name": "stdout",
     "output_type": "stream",
     "text": [
      "Error Cuadrático Medio para el conjunto de validación 3.07152408993159\n",
      "R^2 Score para el conjunto de validación: 0.9186388091787476\n",
      "Error Cuadrático Medio para el conjunto de test: 3.5515663506308215\n",
      "R^2 Score para el conjunto de test: 0.9112284075821545\n"
     ]
    }
   ],
   "source": [
    "from sklearn.ensemble import RandomForestRegressor\n",
    "\n",
    "model_4 = RandomForestRegressor(n_estimators=100, random_state=42) \n",
    "model_4.fit(X_train, y_train)\n",
    "\n",
    "# Realizamos una predicción con el modelo generado anteriormente tras el entrenamiento\n",
    "y_pred_val = model_4.predict(X_val)\n",
    "\n",
    "# Evaluamos el rendimiento en el conjunto de validación\n",
    "mse_val = mean_squared_error(y_val, y_pred_val)\n",
    "r2_val = r2_score(y_val, y_pred_val)\n",
    "\n",
    "print(\"Error Cuadrático Medio para el conjunto de validación\", mse_val)\n",
    "print(\"R^2 Score para el conjunto de validación:\", r2_val)\n",
    "\n",
    "# Realizamos predicciones en el conjunto de prueba\n",
    "y_pred_test = model_4.predict(X_test)\n",
    "\n",
    "# Evaluamos el rendimiento en el conjunto de prueba\n",
    "mse_test = mean_squared_error(y_test, y_pred_test)\n",
    "r2_test = r2_score(y_test, y_pred_test)\n",
    "\n",
    "print(\"Error Cuadrático Medio para el conjunto de test:\", mse_test)\n",
    "print(\"R^2 Score para el conjunto de test:\", r2_test)"
   ]
  },
  {
   "cell_type": "markdown",
   "metadata": {},
   "source": [
    "## MODELO DEEP LEARNING CON TORCH"
   ]
  },
  {
   "cell_type": "code",
   "execution_count": 15,
   "metadata": {},
   "outputs": [
    {
     "name": "stdout",
     "output_type": "stream",
     "text": [
      "Epoch 1, Train Loss: 49.3467, Val Loss: 8.4288\n",
      "Epoch 2, Train Loss: 6.5307, Val Loss: 4.6931\n",
      "Epoch 3, Train Loss: 4.2567, Val Loss: 3.5335\n",
      "Epoch 4, Train Loss: 3.5482, Val Loss: 3.1762\n",
      "Epoch 5, Train Loss: 3.3147, Val Loss: 3.0631\n",
      "Epoch 6, Train Loss: 3.2240, Val Loss: 3.0053\n",
      "Epoch 7, Train Loss: 3.1762, Val Loss: 2.9790\n",
      "Epoch 8, Train Loss: 3.1422, Val Loss: 2.9544\n",
      "Epoch 9, Train Loss: 3.1177, Val Loss: 2.9301\n",
      "Epoch 10, Train Loss: 3.1051, Val Loss: 2.9259\n",
      "Epoch 11, Train Loss: 3.0824, Val Loss: 2.8998\n",
      "Epoch 12, Train Loss: 3.0714, Val Loss: 2.9066\n",
      "Epoch 13, Train Loss: 3.0592, Val Loss: 2.8850\n",
      "Epoch 14, Train Loss: 3.0307, Val Loss: 2.8876\n",
      "Epoch 15, Train Loss: 3.0197, Val Loss: 2.8581\n",
      "Epoch 16, Train Loss: 3.0033, Val Loss: 2.8666\n",
      "Epoch 17, Train Loss: 2.9844, Val Loss: 2.8407\n",
      "Epoch 18, Train Loss: 2.9627, Val Loss: 2.8385\n",
      "Epoch 19, Train Loss: 2.9464, Val Loss: 2.8257\n",
      "Epoch 20, Train Loss: 2.9424, Val Loss: 2.8152\n"
     ]
    },
    {
     "data": {
      "image/png": "[encoded data removed]",
      "text/plain": [
       "<Figure size 640x480 with 1 Axes>"
      ]
     },
     "metadata": {},
     "output_type": "display_data"
    },
    {
     "name": "stdout",
     "output_type": "stream",
     "text": [
      "Error Cuadrático Medio para el conjunto de test: 2.968563\n",
      "R^2 Score para el conjunto de test: 0.925800603367264\n"
     ]
    }
   ],
   "source": [
    "import torch\n",
    "import torch.nn as nn\n",
    "import torch.utils.data as data\n",
    "\n",
    "# Convertir a tensores\n",
    "X_train_tensor = torch.tensor(X_train_escalado, dtype=torch.float32)\n",
    "y_train_tensor = torch.tensor(y_train.values, dtype=torch.float32).unsqueeze(1)\n",
    "\n",
    "X_val_tensor = torch.tensor(X_val_escalado, dtype=torch.float32)\n",
    "y_val_tensor = torch.tensor(y_val.values, dtype=torch.float32).unsqueeze(1)\n",
    "\n",
    "X_test_tensor = torch.tensor(X_test_escalado, dtype=torch.float32)\n",
    "y_test_tensor = torch.tensor(y_test.values, dtype=torch.float32).unsqueeze(1)\n",
    "\n",
    "# Crear dataset y data loader para el conjunto de entrenamiento\n",
    "train_dataset = data.TensorDataset(X_train_tensor, y_train_tensor)\n",
    "train_loader = data.DataLoader(train_dataset, batch_size=32, shuffle=True)\n",
    "\n",
    "# Definir el modelo\n",
    "class SimpleNN(nn.Module):\n",
    "    def __init__(self):\n",
    "        super(SimpleNN, self).__init__()\n",
    "        self.fc1 = nn.Linear(3, 32)  # Tamaño de entrada es 2 (TAVG y TMAX)\n",
    "        self.fc3 = nn.Linear(32, 1)   # Capa de salida\n",
    "\n",
    "    def forward(self, x):\n",
    "        x = nn.ReLU()(self.fc1(x))  # ReLU para la capa oculta\n",
    "        x = self.fc3(x)  # Sin activación en la salida\n",
    "        return x\n",
    "\n",
    "# Instanciar el modelo y la función de pérdida\n",
    "model = SimpleNN()\n",
    "criterion = nn.MSELoss()  # Error cuadrático medio para regresión\n",
    "\n",
    "# Hiperparámetros\n",
    "learning_rate = 0.001\n",
    "epochs = 20\n",
    "train_losses = []\n",
    "val_losses = []\n",
    "\n",
    "# Bucle de entrenamiento\n",
    "for epoch in range(epochs):\n",
    "    total_train_loss = 0\n",
    "\n",
    "    # Fase de entrenamiento\n",
    "    model.train()\n",
    "    for data_batch, target_batch in train_loader:\n",
    "        output = model(data_batch)\n",
    "        loss = criterion(output, target_batch)\n",
    "\n",
    "        # Cero los gradientes\n",
    "        model.zero_grad()\n",
    "\n",
    "        # Retropropagación\n",
    "        loss.backward()\n",
    "\n",
    "        # Actualización manual de pesos\n",
    "        with torch.no_grad():\n",
    "            for param in model.parameters():\n",
    "                param -= learning_rate * param.grad\n",
    "\n",
    "        total_train_loss += loss.item()\n",
    "\n",
    "    # Calcular la pérdida media de entrenamiento\n",
    "    avg_train_loss = total_train_loss / len(train_loader)\n",
    "    train_losses.append(avg_train_loss)\n",
    "\n",
    "    # Fase de validación\n",
    "    model.eval()\n",
    "    total_val_loss = 0\n",
    "    with torch.no_grad():\n",
    "        val_output = model(X_val_tensor)\n",
    "        val_loss = criterion(val_output, y_val_tensor)\n",
    "        total_val_loss += val_loss.item()\n",
    "    \n",
    "    avg_val_loss = total_val_loss\n",
    "    val_losses.append(avg_val_loss)\n",
    "\n",
    "    print(f\"Epoch {epoch + 1}, Train Loss: {avg_train_loss:.4f}, Val Loss: {avg_val_loss:.4f}\")\n",
    "\n",
    "# Graficar las pérdidas de entrenamiento y validación\n",
    "plt.plot(train_losses, label='Training Loss')\n",
    "plt.plot(val_losses, label='Validation Loss')\n",
    "plt.xlabel('Epochs')\n",
    "plt.ylabel('Loss')\n",
    "plt.legend()\n",
    "plt.title('Training and Validation Loss over Epochs')\n",
    "plt.show()\n",
    "\n",
    "# Probar el modelo final\n",
    "with torch.no_grad():\n",
    "    test_output = model(X_test_tensor)\n",
    "\n",
    "# Calcular métricas\n",
    "mse_test = mean_squared_error(y_test_tensor.numpy(), test_output.numpy())\n",
    "r2_test = r2_score(y_test_tensor.numpy(), test_output.numpy())\n",
    "\n",
    "# Mostrar resultados\n",
    "print(\"Error Cuadrático Medio para el conjunto de test:\", mse_test)\n",
    "print(\"R^2 Score para el conjunto de test:\", r2_test)\n",
    "\n"
   ]
  },
  {
   "cell_type": "markdown",
   "metadata": {},
   "source": [
    "# SEGUNDO MODELO:\n",
    "\n",
    "2. Utilizaremos los datos de **TAVG** , **TMIN** y **LLOVIO** para predecir **TMAX**.\n",
    "\n",
    "Por lo tanto separaremos **TMAX** ya que el mismo es el resultado"
   ]
  },
  {
   "cell_type": "code",
   "execution_count": 16,
   "metadata": {},
   "outputs": [
    {
     "name": "stdout",
     "output_type": "stream",
     "text": [
      "DATAFRAME DEL CONJUNTO DE ENTRENAMIENTO: \n",
      "        TAVG  TMIN  llovio\n",
      "33662  22.6  20.6       0\n",
      "36945  22.2  19.0       1\n",
      "36909  23.6  19.4       1\n",
      "36378  10.1   4.2       0\n",
      "31293  17.6  12.3       0\n",
      "DATAFRAME DE RESULTADOS DEL CONJUNTO DE ENTRENAMIENTO: \n",
      " 33662    26.2\n",
      "36945    26.6\n",
      "36909    28.2\n",
      "36378    16.6\n",
      "31293    23.7\n",
      "Name: TMAX, dtype: float64\n"
     ]
    }
   ],
   "source": [
    "# Conjunto de datos general\n",
    "X_df = df_res_com.drop(\"TMAX\", axis=1)\n",
    "y_df = df_res_com[\"TMAX\"].copy()\n",
    "# Conjunto de datos de entrenamiento\n",
    "X_train = train_set.drop(\"TMAX\", axis=1)\n",
    "y_train=train_set[\"TMAX\"].copy()\n",
    "# Conjunto de datos de validación\n",
    "X_val = val_set.drop(\"TMAX\", axis=1)\n",
    "y_val = val_set[\"TMAX\"].copy()\n",
    "# Conjunto de datos de pruebas\n",
    "X_test = test_set.drop(\"TMAX\", axis=1)\n",
    "y_test= test_set[\"TMAX\"].copy()\n",
    "\n",
    "print(f'DATAFRAME DEL CONJUNTO DE ENTRENAMIENTO: \\n {X_train.head(5)}')\n",
    "print(f'DATAFRAME DE RESULTADOS DEL CONJUNTO DE ENTRENAMIENTO: \\n {y_train.head(5)}')"
   ]
  },
  {
   "cell_type": "code",
   "execution_count": 17,
   "metadata": {},
   "outputs": [
    {
     "name": "stdout",
     "output_type": "stream",
     "text": [
      "Error Cuadrático Medio para el conjunto de validación 4.337768103012498\n",
      "R^2 Score para el conjunto de validación: 0.888130496130615\n",
      "Error Cuadrático Medio para el conjunto de test: 4.245104191653311\n",
      "R^2 Score para el conjunto de test: 0.8937307878066889\n"
     ]
    }
   ],
   "source": [
    "\n",
    "# estandarización de los dataset\n",
    "scaler_MAX = StandardScaler()\n",
    "X_train_escalado = scaler_MAX.fit_transform(X_train)\n",
    "X_test_escalado = scaler_MAX.transform(X_test)\n",
    "X_val_escalado =scaler_MAX.transform(X_val)\n",
    "joblib.dump(scaler_MAX, 'scaler_TMAX.pkl')\n",
    "# Entrenar el modelo SVR con kernel gaussiano (RBF)\n",
    "SVR_TMAX = SVR(kernel='rbf')\n",
    "SVR_TMAX.fit(X_train_escalado, y_train)\n",
    "joblib.dump(SVR_TMAX, 'svr_TMAX.pkl')\n",
    "\n",
    "# Realizamos una predicción con el modelo generado anteriormente tras el entrenamiento\n",
    "y_pred_val = SVR_TMAX.predict(X_val_escalado)\n",
    "\n",
    "# Evaluamos el rendimiento en el conjunto de validación\n",
    "mse_val = mean_squared_error(y_val, y_pred_val)\n",
    "r2_val = r2_score(y_val, y_pred_val)\n",
    "\n",
    "print(\"Error Cuadrático Medio para el conjunto de validación\", mse_val)\n",
    "print(\"R^2 Score para el conjunto de validación:\", r2_val)\n",
    "\n",
    "# Realizamos predicciones en el conjunto de prueba\n",
    "y_pred_test = SVR_TMAX.predict(X_test_escalado)\n",
    "\n",
    "# Evaluamos el rendimiento en el conjunto de prueba\n",
    "mse_test = mean_squared_error(y_test, y_pred_test)\n",
    "r2_test = r2_score(y_test, y_pred_test)\n",
    "\n",
    "print(\"Error Cuadrático Medio para el conjunto de test:\", mse_test)\n",
    "print(\"R^2 Score para el conjunto de test:\", r2_test)\n"
   ]
  },
  {
   "cell_type": "markdown",
   "metadata": {},
   "source": [
    "# TERCER MODELO:\n",
    "\n",
    "Utilizaremos los datos de **TMAX** y **TMIN** y **LLOVIO** para predecir **TAVG**.\n",
    "\n",
    "Por lo tanto separaremos **TAVG** ya que el mismo es el resultado"
   ]
  },
  {
   "cell_type": "code",
   "execution_count": 18,
   "metadata": {},
   "outputs": [
    {
     "name": "stdout",
     "output_type": "stream",
     "text": [
      "DATAFRAME DEL CONJUNTO DE ENTRENAMIENTO: \n",
      "        TMAX  TMIN  llovio\n",
      "33662  26.2  20.6       0\n",
      "36945  26.6  19.0       1\n",
      "36909  28.2  19.4       1\n",
      "36378  16.6   4.2       0\n",
      "31293  23.7  12.3       0\n",
      "DATAFRAME DE RESULTADOS DEL CONJUNTO DE ENTRENAMIENTO: \n",
      " 33662    22.6\n",
      "36945    22.2\n",
      "36909    23.6\n",
      "36378    10.1\n",
      "31293    17.6\n",
      "Name: TAVG, dtype: float64\n"
     ]
    }
   ],
   "source": [
    "# Conjunto de datos general\n",
    "X_df = df_res_com.drop(\"TAVG\", axis=1)\n",
    "y_df = df_res_com[\"TAVG\"].copy()\n",
    "# Conjunto de datos de entrenamiento\n",
    "X_train = train_set.drop(\"TAVG\", axis=1)\n",
    "y_train=train_set[\"TAVG\"].copy()\n",
    "# Conjunto de datos de validación\n",
    "X_val = val_set.drop(\"TAVG\", axis=1)\n",
    "y_val = val_set[\"TAVG\"].copy()\n",
    "# Conjunto de datos de pruebas\n",
    "X_test = test_set.drop(\"TAVG\", axis=1)\n",
    "y_test= test_set[\"TAVG\"].copy()\n",
    "\n",
    "print(f'DATAFRAME DEL CONJUNTO DE ENTRENAMIENTO: \\n {X_train.head(5)}')\n",
    "print(f'DATAFRAME DE RESULTADOS DEL CONJUNTO DE ENTRENAMIENTO: \\n {y_train.head(5)}')"
   ]
  },
  {
   "cell_type": "code",
   "execution_count": 19,
   "metadata": {},
   "outputs": [
    {
     "name": "stdout",
     "output_type": "stream",
     "text": [
      "Error Cuadrático Medio para el conjunto de validación 1.106916723178627\n",
      "R^2 Score para el conjunto de validación: 0.9663422710695935\n",
      "Error Cuadrático Medio para el conjunto de test: 1.1623155257948719\n",
      "R^2 Score para el conjunto de test: 0.9659530645071506\n"
     ]
    }
   ],
   "source": [
    "\n",
    "# estandarización de los dataset\n",
    "scaler_TAVG = StandardScaler()\n",
    "X_train_escalado = scaler_TAVG.fit_transform(X_train)\n",
    "X_test_escalado = scaler_TAVG.transform(X_test)\n",
    "X_val_escalado =scaler_TAVG.transform(X_val)\n",
    "joblib.dump(scaler_TAVG, 'scaler_TAVG.pkl')\n",
    "# Entrenar el modelo SVR con kernel gaussiano (RBF)\n",
    "SVR_TAVG = SVR(kernel='rbf')\n",
    "SVR_TAVG.fit(X_train_escalado, y_train)\n",
    "joblib.dump(SVR_TAVG, 'svr_TAVG.pkl')\n",
    "\n",
    "# Realizamos una predicción con el modelo generado anteriormente tras el entrenamiento\n",
    "y_pred_val = SVR_TAVG.predict(X_val_escalado)\n",
    "\n",
    "# Evaluamos el rendimiento en el conjunto de validación\n",
    "mse_val = mean_squared_error(y_val, y_pred_val)\n",
    "r2_val = r2_score(y_val, y_pred_val)\n",
    "\n",
    "print(\"Error Cuadrático Medio para el conjunto de validación\", mse_val)\n",
    "print(\"R^2 Score para el conjunto de validación:\", r2_val)\n",
    "\n",
    "# Realizamos predicciones en el conjunto de prueba\n",
    "y_pred_test = SVR_TAVG.predict(X_test_escalado)\n",
    "\n",
    "# Evaluamos el rendimiento en el conjunto de prueba\n",
    "mse_test = mean_squared_error(y_test, y_pred_test)\n",
    "r2_test = r2_score(y_test, y_pred_test)\n",
    "\n",
    "print(\"Error Cuadrático Medio para el conjunto de test:\", mse_test)\n",
    "print(\"R^2 Score para el conjunto de test:\", r2_test)\n"
   ]
  },
  {
   "cell_type": "markdown",
   "metadata": {},
   "source": [
    "## 4to modelo\n",
    "CON TAVG predecimos TMAX y TMIN"
   ]
  },
  {
   "cell_type": "code",
   "execution_count": 20,
   "metadata": {},
   "outputs": [
    {
     "name": "stdout",
     "output_type": "stream",
     "text": [
      "DATAFRAME DEL CONJUNTO DE ENTRENAMIENTO: \n",
      "        TAVG  llovio\n",
      "33662  22.6       0\n",
      "36945  22.2       1\n",
      "36909  23.6       1\n",
      "36378  10.1       0\n",
      "31293  17.6       0\n",
      "DATAFRAME DE RESULTADOS DEL CONJUNTO DE ENTRENAMIENTO: \n",
      "        TMAX  TMIN\n",
      "33662  26.2  20.6\n",
      "36945  26.6  19.0\n",
      "36909  28.2  19.4\n",
      "36378  16.6   4.2\n",
      "31293  23.7  12.3\n"
     ]
    }
   ],
   "source": [
    "# Conjunto de datos general\n",
    "X_df = df_res_com.drop(columns=[\"TMAX\",\"TMIN\"], axis=1)\n",
    "\n",
    "y_df = df_res_com[[\"TMAX\",'TMIN']].copy()\n",
    "# Conjunto de datos de entrenamiento\n",
    "X_train = train_set.drop(columns=[\"TMAX\",\"TMIN\"], axis=1)\n",
    "y_train=train_set[[\"TMAX\",'TMIN']].copy()\n",
    "# Conjunto de datos de validación\n",
    "X_val = val_set.drop(columns=[\"TMAX\",\"TMIN\"], axis=1)\n",
    "y_val = val_set[[\"TMAX\",'TMIN']].copy()\n",
    "# Conjunto de datos de pruebas\n",
    "X_test = test_set.drop(columns=[\"TMAX\",\"TMIN\"], axis=1)\n",
    "y_test= test_set[[\"TMAX\",'TMIN']].copy()\n",
    "\n",
    "print(f'DATAFRAME DEL CONJUNTO DE ENTRENAMIENTO: \\n {X_train.head(5)}')\n",
    "print(f'DATAFRAME DE RESULTADOS DEL CONJUNTO DE ENTRENAMIENTO: \\n {y_train.head(5)}')"
   ]
  },
  {
   "cell_type": "code",
   "execution_count": 21,
   "metadata": {},
   "outputs": [
    {
     "name": "stdout",
     "output_type": "stream",
     "text": [
      "Resultados del conjunto de validación para TMAX:\n",
      "Salida 1 - Error Cuadrático Medio: 6.127491035549683\n",
      "Salida 1 - R^2 Score: 0.8419741752365705\n",
      "Salida 2 - Error Cuadrático Medio para TMIN: 4.282700433934426\n",
      "Salida 2 - R^2 Score: 0.886556120989642\n",
      "Resultados del conjunto de prueba:\n",
      "Salida 1 - Error Cuadrático Medio para TMAX:: 6.036041415324437\n",
      "Salida 1 - R^2 Score: 0.8488976154616108\n",
      "Salida 2 - Error Cuadrático Medio para TMIN: 4.517310191354016\n",
      "Salida 2 - R^2 Score: 0.8870895882148923\n"
     ]
    }
   ],
   "source": [
    "from sklearn.multioutput import MultiOutputRegressor\n",
    "\n",
    "# Estandarización de los datasets\n",
    "scaler_TAVG_doble_salida = StandardScaler()\n",
    "X_train_escalado = scaler_TAVG_doble_salida.fit_transform(X_train)\n",
    "X_val_escalado = scaler_TAVG_doble_salida.transform(X_val)\n",
    "X_test_escalado = scaler_TAVG_doble_salida.transform(X_test)\n",
    "joblib.dump(scaler_TAVG_doble_salida, 'scaler_TAVG_doble_salida.pkl')\n",
    "\n",
    "# Entrenar el modelo SVR con kernel gaussiano (RBF) usando MultiOutputRegressor\n",
    "SVR_TAVG_doble_salida = MultiOutputRegressor(SVR(kernel='rbf'))\n",
    "SVR_TAVG_doble_salida.fit(X_train_escalado, y_train)\n",
    "joblib.dump(SVR_TAVG_doble_salida, 'svr_TAVG_doble_salida.pkl')\n",
    "\n",
    "# Realizamos predicciones en el conjunto de validación\n",
    "y_pred_val = SVR_TAVG_doble_salida.predict(X_val_escalado)\n",
    "\n",
    "# Evaluamos el rendimiento en el conjunto de validación para cada salida\n",
    "mse_val_1 = mean_squared_error(y_val.iloc[:, 0], y_pred_val[:, 0])\n",
    "r2_val_1 = r2_score(y_val.iloc[:, 0], y_pred_val[:, 0])\n",
    "mse_val_2 = mean_squared_error(y_val.iloc[:, 1], y_pred_val[:, 1])\n",
    "r2_val_2 = r2_score(y_val.iloc[:, 1], y_pred_val[:, 1])\n",
    "\n",
    "print(\"Resultados del conjunto de validación para TMAX:\")\n",
    "print(\"Salida 1 - Error Cuadrático Medio:\", mse_val_1)\n",
    "print(\"Salida 1 - R^2 Score:\", r2_val_1)\n",
    "print(\"Salida 2 - Error Cuadrático Medio para TMIN:\", mse_val_2)\n",
    "print(\"Salida 2 - R^2 Score:\", r2_val_2)\n",
    "\n",
    "# Realizamos predicciones en el conjunto de prueba\n",
    "y_pred_test = SVR_TAVG_doble_salida.predict(X_test_escalado)\n",
    "\n",
    "# Evaluamos el rendimiento en el conjunto de prueba para cada salida\n",
    "mse_test_1 = mean_squared_error(y_test.iloc[:, 0], y_pred_test[:, 0])\n",
    "r2_test_1 = r2_score(y_test.iloc[:, 0], y_pred_test[:, 0])\n",
    "mse_test_2 = mean_squared_error(y_test.iloc[:, 1], y_pred_test[:, 1])\n",
    "r2_test_2 = r2_score(y_test.iloc[:, 1], y_pred_test[:, 1])\n",
    "\n",
    "print(\"Resultados del conjunto de prueba:\")\n",
    "print(\"Salida 1 - Error Cuadrático Medio para TMAX::\", mse_test_1)\n",
    "print(\"Salida 1 - R^2 Score:\", r2_test_1)\n",
    "print(\"Salida 2 - Error Cuadrático Medio para TMIN:\", mse_test_2)\n",
    "print(\"Salida 2 - R^2 Score:\", r2_test_2)\n"
   ]
  },
  {
   "cell_type": "markdown",
   "metadata": {},
   "source": [
    "## 5to modelo\n",
    "\n",
    "con **TMAX** y **LLOVIO** predecimos **TAVG** y **TMIN**"
   ]
  },
  {
   "cell_type": "code",
   "execution_count": 22,
   "metadata": {},
   "outputs": [
    {
     "name": "stdout",
     "output_type": "stream",
     "text": [
      "DATAFRAME DEL CONJUNTO DE ENTRENAMIENTO: \n",
      "        TMAX  llovio\n",
      "33662  26.2       0\n",
      "36945  26.6       1\n",
      "36909  28.2       1\n",
      "36378  16.6       0\n",
      "31293  23.7       0\n",
      "DATAFRAME DE RESULTADOS DEL CONJUNTO DE ENTRENAMIENTO: \n",
      "        TAVG  TMIN\n",
      "33662  22.6  20.6\n",
      "36945  22.2  19.0\n",
      "36909  23.6  19.4\n",
      "36378  10.1   4.2\n",
      "31293  17.6  12.3\n"
     ]
    }
   ],
   "source": [
    "# Conjunto de datos general\n",
    "X_df = df_res_com.drop(columns=[\"TAVG\",\"TMIN\"], axis=1)\n",
    "\n",
    "y_df = df_res_com[[\"TAVG\",'TMIN']].copy()\n",
    "# Conjunto de datos de entrenamiento\n",
    "X_train = train_set.drop(columns=[\"TAVG\",\"TMIN\"], axis=1)\n",
    "y_train=train_set[[\"TAVG\",'TMIN']].copy()\n",
    "# Conjunto de datos de validación\n",
    "X_val = val_set.drop(columns=[\"TAVG\",\"TMIN\"], axis=1)\n",
    "y_val = val_set[[\"TAVG\",'TMIN']].copy()\n",
    "# Conjunto de datos de pruebas\n",
    "X_test = test_set.drop(columns=[\"TAVG\",\"TMIN\"], axis=1)\n",
    "y_test= test_set[[\"TAVG\",'TMIN']].copy()\n",
    "\n",
    "print(f'DATAFRAME DEL CONJUNTO DE ENTRENAMIENTO: \\n {X_train.head(5)}')\n",
    "print(f'DATAFRAME DE RESULTADOS DEL CONJUNTO DE ENTRENAMIENTO: \\n {y_train.head(5)}')"
   ]
  },
  {
   "cell_type": "code",
   "execution_count": 23,
   "metadata": {},
   "outputs": [
    {
     "name": "stdout",
     "output_type": "stream",
     "text": [
      "Resultados del conjunto de validación :\n",
      "Salida 1 - Error Cuadrático Medio para TAVG: 4.989640724176161\n",
      "Salida 1 - R^2 Score: 0.8482812921353459\n",
      "Salida 2 - Error Cuadrático Medio para TMIN: 13.830401324810932\n",
      "Salida 2 - R^2 Score: 0.6336483490358997\n",
      "Resultados del conjunto de prueba:\n",
      "Salida 1 - Error Cuadrático Medio para TAVG: 4.886141308026983\n",
      "Salida 1 - R^2 Score: 0.8568735130595675\n",
      "Salida 2 - Error Cuadrático Medio para TMIN: 13.998572435598037\n",
      "Salida 2 - R^2 Score: 0.6501049272347468\n"
     ]
    }
   ],
   "source": [
    "# Estandarización de los datasets\n",
    "scaler_TMAX_doble_salida = StandardScaler()\n",
    "X_train_escalado = scaler_TMAX_doble_salida.fit_transform(X_train)\n",
    "X_val_escalado = scaler_TMAX_doble_salida.transform(X_val)\n",
    "X_test_escalado = scaler_TMAX_doble_salida.transform(X_test)\n",
    "\n",
    "\n",
    "# Entrenar el modelo SVR con kernel gaussiano (RBF) usando MultiOutputRegressor\n",
    "SVR_TMAX_doble_salida = MultiOutputRegressor(SVR(kernel='rbf'))\n",
    "SVR_TMAX_doble_salida.fit(X_train_escalado, y_train)\n",
    "\n",
    "\n",
    "# Realizamos predicciones en el conjunto de validación\n",
    "y_pred_val = SVR_TMAX_doble_salida.predict(X_val_escalado)\n",
    "\n",
    "# Evaluamos el rendimiento en el conjunto de validación para cada salida\n",
    "mse_val_1 = mean_squared_error(y_val.iloc[:, 0], y_pred_val[:, 0])\n",
    "r2_val_1 = r2_score(y_val.iloc[:, 0], y_pred_val[:, 0])\n",
    "mse_val_2 = mean_squared_error(y_val.iloc[:, 1], y_pred_val[:, 1])\n",
    "r2_val_2 = r2_score(y_val.iloc[:, 1], y_pred_val[:, 1])\n",
    "\n",
    "print(\"Resultados del conjunto de validación :\")\n",
    "print(\"Salida 1 - Error Cuadrático Medio para TAVG:\", mse_val_1)\n",
    "print(\"Salida 1 - R^2 Score:\", r2_val_1)\n",
    "print(\"Salida 2 - Error Cuadrático Medio para TMIN:\", mse_val_2)\n",
    "print(\"Salida 2 - R^2 Score:\", r2_val_2)\n",
    "\n",
    "# Realizamos predicciones en el conjunto de prueba\n",
    "y_pred_test = SVR_TMAX_doble_salida.predict(X_test_escalado)\n",
    "\n",
    "# Evaluamos el rendimiento en el conjunto de prueba para cada salida\n",
    "mse_test_1 = mean_squared_error(y_test.iloc[:, 0], y_pred_test[:, 0])\n",
    "r2_test_1 = r2_score(y_test.iloc[:, 0], y_pred_test[:, 0])\n",
    "mse_test_2 = mean_squared_error(y_test.iloc[:, 1], y_pred_test[:, 1])\n",
    "r2_test_2 = r2_score(y_test.iloc[:, 1], y_pred_test[:, 1])\n",
    "\n",
    "print(\"Resultados del conjunto de prueba:\")\n",
    "print(\"Salida 1 - Error Cuadrático Medio para TAVG:\", mse_test_1)\n",
    "print(\"Salida 1 - R^2 Score:\", r2_test_1)\n",
    "print(\"Salida 2 - Error Cuadrático Medio para TMIN:\", mse_test_2)\n",
    "print(\"Salida 2 - R^2 Score:\", r2_test_2)\n"
   ]
  },
  {
   "cell_type": "markdown",
   "metadata": {},
   "source": [
    "Como el resultado de predicción de **TMIN** es muy bajo volvemos a ejecutar el modelo pero para que solamente prediga **TAVG**\n",
    "\n",
    "## 5to modelo final\n",
    "\n",
    "con **TMAX** y **LLOVIO** predecimos **TAVG** "
   ]
  },
  {
   "cell_type": "code",
   "execution_count": 24,
   "metadata": {},
   "outputs": [
    {
     "name": "stdout",
     "output_type": "stream",
     "text": [
      "DATAFRAME DEL CONJUNTO DE ENTRENAMIENTO: \n",
      "        TMIN  llovio\n",
      "33662  20.6       0\n",
      "36945  19.0       1\n",
      "36909  19.4       1\n",
      "36378   4.2       0\n",
      "31293  12.3       0\n",
      "DATAFRAME DE RESULTADOS DEL CONJUNTO DE ENTRENAMIENTO: \n",
      " 33662    22.6\n",
      "36945    22.2\n",
      "36909    23.6\n",
      "36378    10.1\n",
      "31293    17.6\n",
      "Name: TAVG, dtype: float64\n"
     ]
    }
   ],
   "source": [
    "# Conjunto de datos general\n",
    "X_df = df_res_com.drop(columns=[\"TMAX\",\"TAVG\"], axis=1)\n",
    "\n",
    "y_df = df_res_com[\"TAVG\"].copy()\n",
    "# Conjunto de datos de entrenamiento\n",
    "X_train = train_set.drop(columns=[\"TMAX\",\"TAVG\"], axis=1)\n",
    "y_train=train_set[\"TAVG\"].copy()\n",
    "# Conjunto de datos de validación\n",
    "X_val = val_set.drop(columns=[\"TMAX\",\"TAVG\"], axis=1)\n",
    "y_val = val_set[\"TAVG\"].copy()\n",
    "# Conjunto de datos de pruebas\n",
    "X_test = test_set.drop(columns=[\"TMAX\",\"TAVG\"], axis=1)\n",
    "y_test= test_set[\"TAVG\"].copy()\n",
    "\n",
    "print(f'DATAFRAME DEL CONJUNTO DE ENTRENAMIENTO: \\n {X_train.head(5)}')\n",
    "print(f'DATAFRAME DE RESULTADOS DEL CONJUNTO DE ENTRENAMIENTO: \\n {y_train.head(5)}')"
   ]
  },
  {
   "cell_type": "code",
   "execution_count": 25,
   "metadata": {},
   "outputs": [
    {
     "name": "stdout",
     "output_type": "stream",
     "text": [
      "Error Cuadrático Medio para el conjunto de validación 3.769761798977295\n",
      "R^2 Score para el conjunto de validación: 0.8853738333649658\n",
      "Error Cuadrático Medio para el conjunto de test: 3.992955725298245\n",
      "R^2 Score para el conjunto de test: 0.8830370041628218\n"
     ]
    }
   ],
   "source": [
    "\n",
    "# estandarización de los dataset\n",
    "scaler_TMIN_PRED_TAVG = StandardScaler()\n",
    "X_train_escalado = scaler_TMIN_PRED_TAVG.fit_transform(X_train)\n",
    "X_test_escalado = scaler_TMIN_PRED_TAVG.transform(X_test)\n",
    "X_val_escalado =scaler_TMIN_PRED_TAVG.transform(X_val)\n",
    "joblib.dump(scaler_TMIN_PRED_TAVG, 'scaler_TMIN_PRED_TAVG.pkl')\n",
    "# Entrenar el modelo SVR con kernel gaussiano (RBF)\n",
    "SVR_TMIN_PRED_TAVG = SVR(kernel='rbf')\n",
    "SVR_TMIN_PRED_TAVG.fit(X_train_escalado, y_train)\n",
    "joblib.dump(SVR_TMIN_PRED_TAVG, 'SVR_TMIN_PRED_TAVG.pkl')\n",
    "\n",
    "# Realizamos una predicción con el modelo generado anteriormente tras el entrenamiento\n",
    "y_pred_val = SVR_TMIN_PRED_TAVG.predict(X_val_escalado)\n",
    "\n",
    "# Evaluamos el rendimiento en el conjunto de validación\n",
    "mse_val = mean_squared_error(y_val, y_pred_val)\n",
    "r2_val = r2_score(y_val, y_pred_val)\n",
    "\n",
    "print(\"Error Cuadrático Medio para el conjunto de validación\", mse_val)\n",
    "print(\"R^2 Score para el conjunto de validación:\", r2_val)\n",
    "\n",
    "# Realizamos predicciones en el conjunto de prueba\n",
    "y_pred_test = SVR_TMIN_PRED_TAVG.predict(X_test_escalado)\n",
    "\n",
    "# Evaluamos el rendimiento en el conjunto de prueba\n",
    "mse_test = mean_squared_error(y_test, y_pred_test)\n",
    "r2_test = r2_score(y_test, y_pred_test)\n",
    "\n",
    "print(\"Error Cuadrático Medio para el conjunto de test:\", mse_test)\n",
    "print(\"R^2 Score para el conjunto de test:\", r2_test)"
   ]
  },
  {
   "cell_type": "markdown",
   "metadata": {},
   "source": [
    "## 6to modelo\n",
    "\n",
    "Con **TMIN** y **LLOVIO** predecimos **TAVG** y **TMAX**"
   ]
  },
  {
   "cell_type": "code",
   "execution_count": 26,
   "metadata": {},
   "outputs": [
    {
     "name": "stdout",
     "output_type": "stream",
     "text": [
      "DATAFRAME DEL CONJUNTO DE ENTRENAMIENTO: \n",
      "        TMIN  llovio\n",
      "33662  20.6       0\n",
      "36945  19.0       1\n",
      "36909  19.4       1\n",
      "36378   4.2       0\n",
      "31293  12.3       0\n",
      "DATAFRAME DE RESULTADOS DEL CONJUNTO DE ENTRENAMIENTO: \n",
      "        TAVG  TMAX\n",
      "33662  22.6  26.2\n",
      "36945  22.2  26.6\n",
      "36909  23.6  28.2\n",
      "36378  10.1  16.6\n",
      "31293  17.6  23.7\n"
     ]
    }
   ],
   "source": [
    "# Conjunto de datos general\n",
    "X_df = df_res_com.drop(columns=[\"TAVG\",\"TMAX\"], axis=1)\n",
    "\n",
    "y_df = df_res_com[[\"TAVG\",'TMAX']].copy()\n",
    "# Conjunto de datos de entrenamiento\n",
    "X_train = train_set.drop(columns=[\"TAVG\",\"TMAX\"], axis=1)\n",
    "y_train=train_set[[\"TAVG\",'TMAX']].copy()\n",
    "# Conjunto de datos de validación\n",
    "X_val = val_set.drop(columns=[\"TAVG\",\"TMAX\"], axis=1)\n",
    "y_val = val_set[[\"TAVG\",'TMAX']].copy()\n",
    "# Conjunto de datos de pruebas\n",
    "X_test = test_set.drop(columns=[\"TAVG\",\"TMAX\"], axis=1)\n",
    "y_test= test_set[[\"TAVG\",'TMAX']].copy()\n",
    "\n",
    "print(f'DATAFRAME DEL CONJUNTO DE ENTRENAMIENTO: \\n {X_train.head(5)}')\n",
    "print(f'DATAFRAME DE RESULTADOS DEL CONJUNTO DE ENTRENAMIENTO: \\n {y_train.head(5)}')"
   ]
  },
  {
   "cell_type": "code",
   "execution_count": 27,
   "metadata": {},
   "outputs": [
    {
     "name": "stdout",
     "output_type": "stream",
     "text": [
      "Resultados del conjunto de validación:\n",
      "Salida 1 - Error Cuadrático Medio para TAVG: 3.769761798977295\n",
      "Salida 1 - R^2 Score: 0.8853738333649658\n",
      "Salida 2 - Error Cuadrático Medio para TMAX: 14.327684457838977\n",
      "Salida 2 - R^2 Score: 0.6304940896258588\n",
      "Resultados del conjunto de prueba:\n",
      "Salida 1 - Error Cuadrático Medio para TAVG: 3.992955725298245\n",
      "Salida 1 - R^2 Score: 0.8830370041628218\n",
      "Salida 2 - Error Cuadrático Medio para TMAX: 14.592189723652954\n",
      "Salida 2 - R^2 Score: 0.6347084933375947\n"
     ]
    }
   ],
   "source": [
    "\n",
    "# Estandarización de los datasets\n",
    "scaler_TMIN_doble_salida = StandardScaler()\n",
    "X_train_escalado = scaler_TMIN_doble_salida.fit_transform(X_train)\n",
    "X_val_escalado = scaler_TMIN_doble_salida.transform(X_val)\n",
    "X_test_escalado = scaler_TMIN_doble_salida.transform(X_test)\n",
    "\n",
    "\n",
    "# Entrenar el modelo SVR con kernel gaussiano (RBF) usando MultiOutputRegressor\n",
    "SVR_TMIN_doble_salida = MultiOutputRegressor(SVR(kernel='rbf'))\n",
    "SVR_TMIN_doble_salida.fit(X_train_escalado, y_train)\n",
    "\n",
    "\n",
    "# Realizamos predicciones en el conjunto de validación\n",
    "y_pred_val = SVR_TMIN_doble_salida.predict(X_val_escalado)\n",
    "\n",
    "# Evaluamos el rendimiento en el conjunto de validación para cada salida\n",
    "mse_val_1 = mean_squared_error(y_val.iloc[:, 0], y_pred_val[:, 0])\n",
    "r2_val_1 = r2_score(y_val.iloc[:, 0], y_pred_val[:, 0])\n",
    "mse_val_2 = mean_squared_error(y_val.iloc[:, 1], y_pred_val[:, 1])\n",
    "r2_val_2 = r2_score(y_val.iloc[:, 1], y_pred_val[:, 1])\n",
    "\n",
    "print(\"Resultados del conjunto de validación:\")\n",
    "print(\"Salida 1 - Error Cuadrático Medio para TAVG:\", mse_val_1)\n",
    "print(\"Salida 1 - R^2 Score:\", r2_val_1)\n",
    "print(\"Salida 2 - Error Cuadrático Medio para TMAX:\", mse_val_2)\n",
    "print(\"Salida 2 - R^2 Score:\", r2_val_2)\n",
    "\n",
    "# Realizamos predicciones en el conjunto de prueba\n",
    "y_pred_test = SVR_TMIN_doble_salida.predict(X_test_escalado)\n",
    "\n",
    "# Evaluamos el rendimiento en el conjunto de prueba para cada salida\n",
    "mse_test_1 = mean_squared_error(y_test.iloc[:, 0], y_pred_test[:, 0])\n",
    "r2_test_1 = r2_score(y_test.iloc[:, 0], y_pred_test[:, 0])\n",
    "mse_test_2 = mean_squared_error(y_test.iloc[:, 1], y_pred_test[:, 1])\n",
    "r2_test_2 = r2_score(y_test.iloc[:, 1], y_pred_test[:, 1])\n",
    "\n",
    "print(\"Resultados del conjunto de prueba:\")\n",
    "print(\"Salida 1 - Error Cuadrático Medio para TAVG:\", mse_test_1)\n",
    "print(\"Salida 1 - R^2 Score:\", r2_test_1)\n",
    "print(\"Salida 2 - Error Cuadrático Medio para TMAX:\", mse_test_2)\n",
    "print(\"Salida 2 - R^2 Score:\", r2_test_2)"
   ]
  },
  {
   "cell_type": "markdown",
   "metadata": {},
   "source": [
    "\n",
    "Como el resultado de predicción de **TMAX** es muy bajo, volvemos a ejecutar el modelo pero para que solamente prediga **TAVG**\n",
    "\n",
    "## 6to modelo final\n",
    "\n",
    "con **TMIN** y **LLOVIO** predecimos **TAVG** "
   ]
  },
  {
   "cell_type": "code",
   "execution_count": 28,
   "metadata": {},
   "outputs": [
    {
     "name": "stdout",
     "output_type": "stream",
     "text": [
      "DATAFRAME DEL CONJUNTO DE ENTRENAMIENTO: \n",
      "        TMAX  llovio\n",
      "33662  26.2       0\n",
      "36945  26.6       1\n",
      "36909  28.2       1\n",
      "36378  16.6       0\n",
      "31293  23.7       0\n",
      "DATAFRAME DE RESULTADOS DEL CONJUNTO DE ENTRENAMIENTO: \n",
      " 33662    22.6\n",
      "36945    22.2\n",
      "36909    23.6\n",
      "36378    10.1\n",
      "31293    17.6\n",
      "Name: TAVG, dtype: float64\n"
     ]
    }
   ],
   "source": [
    "# Conjunto de datos general\n",
    "X_df = df_res_com.drop(columns=[\"TMIN\",\"TAVG\"], axis=1)\n",
    "\n",
    "y_df = df_res_com[\"TAVG\"].copy()\n",
    "# Conjunto de datos de entrenamiento\n",
    "X_train = train_set.drop(columns=[\"TMIN\",\"TAVG\"], axis=1)\n",
    "y_train=train_set[\"TAVG\"].copy()\n",
    "# Conjunto de datos de validación\n",
    "X_val = val_set.drop(columns=[\"TMIN\",\"TAVG\"], axis=1)\n",
    "y_val = val_set[\"TAVG\"].copy()\n",
    "# Conjunto de datos de pruebas\n",
    "X_test = test_set.drop(columns=[\"TMIN\",\"TAVG\"], axis=1)\n",
    "y_test= test_set[\"TAVG\"].copy()\n",
    "\n",
    "print(f'DATAFRAME DEL CONJUNTO DE ENTRENAMIENTO: \\n {X_train.head(5)}')\n",
    "print(f'DATAFRAME DE RESULTADOS DEL CONJUNTO DE ENTRENAMIENTO: \\n {y_train.head(5)}')"
   ]
  },
  {
   "cell_type": "code",
   "execution_count": 29,
   "metadata": {},
   "outputs": [
    {
     "name": "stdout",
     "output_type": "stream",
     "text": [
      "Error Cuadrático Medio para el conjunto de validación 4.989640724176161\n",
      "R^2 Score para el conjunto de validación: 0.8482812921353459\n",
      "Error Cuadrático Medio para el conjunto de test: 4.886141308026983\n",
      "R^2 Score para el conjunto de test: 0.8568735130595675\n"
     ]
    }
   ],
   "source": [
    "\n",
    "# estandarización de los dataset\n",
    "scaler_TMAX_PRED_TAVG = StandardScaler()\n",
    "X_train_escalado = scaler_TMAX_PRED_TAVG.fit_transform(X_train)\n",
    "X_test_escalado = scaler_TMAX_PRED_TAVG.transform(X_test)\n",
    "X_val_escalado =scaler_TMAX_PRED_TAVG.transform(X_val)\n",
    "joblib.dump(scaler_TMAX_PRED_TAVG, 'scaler_TMAX_PRED_TAVG.pkl')\n",
    "# Entrenar el modelo SVR con kernel gaussiano (RBF)\n",
    "SVR_TMAX_PRED_TAVG = SVR(kernel='rbf')\n",
    "SVR_TMAX_PRED_TAVG.fit(X_train_escalado, y_train)\n",
    "joblib.dump(SVR_TMAX_PRED_TAVG, 'SVR_TMAX_PRED_TAVG.pkl')\n",
    "\n",
    "# Realizamos una predicción con el modelo generado anteriormente tras el entrenamiento\n",
    "y_pred_val = SVR_TMAX_PRED_TAVG.predict(X_val_escalado)\n",
    "\n",
    "# Evaluamos el rendimiento en el conjunto de validación\n",
    "mse_val = mean_squared_error(y_val, y_pred_val)\n",
    "r2_val = r2_score(y_val, y_pred_val)\n",
    "\n",
    "print(\"Error Cuadrático Medio para el conjunto de validación\", mse_val)\n",
    "print(\"R^2 Score para el conjunto de validación:\", r2_val)\n",
    "\n",
    "# Realizamos predicciones en el conjunto de prueba\n",
    "y_pred_test = SVR_TMAX_PRED_TAVG.predict(X_test_escalado)\n",
    "\n",
    "# Evaluamos el rendimiento en el conjunto de prueba\n",
    "mse_test = mean_squared_error(y_test, y_pred_test)\n",
    "r2_test = r2_score(y_test, y_pred_test)\n",
    "\n",
    "print(\"Error Cuadrático Medio para el conjunto de test:\", mse_test)\n",
    "print(\"R^2 Score para el conjunto de test:\", r2_test)"
   ]
  },
  {
   "cell_type": "markdown",
   "metadata": {},
   "source": [
    "# CONCLUSIONES FINALES\n",
    "\n",
    "## Modelos Adoptados\n",
    "\n",
    "Para todos los modelos, se adoptó la solución de Machine Learning Support Vector Machine, que fue el que obtuvo mejor rendimiento.\n",
    "\n",
    "### Modelo 1\n",
    "A partir de los datos de **TMAX**, **TAVG** y **Llovio**, se predice **TMIN**.\n",
    "\n",
    "- **R² = 0.929**\n",
    "\n",
    "Por lo tanto, lo adoptamos para imputar datos.\n",
    "\n",
    "---\n",
    "\n",
    "### Modelo 2\n",
    "A partir de los datos de **TMIN**, **TAVG** y **Llovio**, se predice **TMAX**.\n",
    "\n",
    "- **R² = 0.88**\n",
    "\n",
    "Por lo tanto, lo adoptamos para imputar datos.\n",
    "\n",
    "---\n",
    "\n",
    "### Modelo 3\n",
    "A partir de los datos de **TMIN**, **TMAX** y **Llovio**, se predice **TAVG**.\n",
    "\n",
    "- **R² = 0.96**\n",
    "\n",
    "Por lo tanto, lo adoptamos para imputar datos.\n",
    "\n",
    "---\n",
    "\n",
    "### Modelo 4\n",
    "A partir de los datos de **TAVG** y **Llovio**, se predice **TMAX** y **TMIN**.\n",
    "\n",
    "- **R² para TMAX = 0.88**\n",
    "- **R² para TMIN = 0.88**\n",
    "\n",
    "Por lo tanto, lo adoptamos para imputar datos.\n",
    "\n",
    "---\n",
    "\n",
    "### Modelo 5\n",
    "A partir de los datos de **TMAX** y **Llovio**, se predice **TAVG** y **TMIN**.\n",
    "\n",
    "- **R² para TAVG = 0.85**\n",
    "- **R² para TMIN = 0.65**\n",
    "\n",
    "Adoptamos este modelo para imputar datos de **TAVG**.\n",
    "\n",
    "---\n",
    "\n",
    "### Modelo 6\n",
    "A partir de los datos de **TMIN** y **Llovio**, se predice **TAVG** y **TMAX**.\n",
    "\n",
    "- **R² para TAVG = 0.85**\n",
    "- **R² para TMIN = 0.65**\n",
    "\n",
    "Adoptamos este modelo para imputar datos de **TAVG**.\n",
    "\n",
    "---\n",
    "\n",
    "## Conclusión\n",
    "Para imputar los datos, utilizaremos los Modelos 1, 2, 3 y 4. En los casos donde solo tengamos el dato de **TMIN**, primero predeciremos **TAVG** y luego ejecutaremos el Modelo 2. En los casos donde solo tengamos el dato de **TMAX**, imputaremos **TAVG** y luego ejecutaremos el Modelo 1.\n",
    "\n"
   ]
  }
 ],
 "metadata": {
  "kernelspec": {
   "display_name": "Agosto2024",
   "language": "python",
   "name": "python3"
  },
  "language_info": {
   "codemirror_mode": {
    "name": "ipython",
    "version": 3
   },
   "file_extension": ".py",
   "mimetype": "text/x-python",
   "name": "python",
   "nbconvert_exporter": "python",
   "pygments_lexer": "ipython3",
   "version": "3.11.8"
  }
 },
 "nbformat": 4,
 "nbformat_minor": 2
}
